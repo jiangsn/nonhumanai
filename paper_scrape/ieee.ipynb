{
 "cells": [
  {
   "cell_type": "code",
   "execution_count": 1,
   "metadata": {},
   "outputs": [],
   "source": [
    "from selenium import webdriver\n",
    "from selenium.webdriver.common.by import By\n",
    "from selenium.webdriver.support.ui import WebDriverWait\n",
    "import chromedriver_binary\n",
    "from bs4 import BeautifulSoup\n",
    "from credential import *\n",
    "import json\n",
    "import time\n",
    "import pandas as pd\n",
    "import re\n",
    "import requests\n",
    "import os\n",
    "from IPython.display import display, HTML, Image\n",
    "from tqdm.auto import tqdm\n",
    "\n",
    "\n",
    "options = webdriver.ChromeOptions()\n",
    "options.add_argument(\"--headless=new\")\n",
    "driver = webdriver.Chrome(options=options)\n",
    "driver.set_window_size(1920, 1080)\n",
    "\n",
    "headers = {\n",
    "    \"User-Agent\": \"Mozilla/5.0 (Windows NT 10.0; Win64; x64) AppleWebKit/537.36 (KHTML, like Gecko) Chrome/117.0.0.0 Safari/537.36 Edg/117.0.2045.60\",\n",
    "}\n",
    "\n",
    "\n",
    "def maintext_formatter(article):\n",
    "    for i in article.find_all(\"div\", {\"class\": \"kicker\"}):\n",
    "        i.append(\" \")\n",
    "    for i in article.find_all(\"h2\"):\n",
    "        i.append(\": \")\n",
    "    for i in article.find_all(\"h3\"):\n",
    "        i.append(\": \")\n",
    "    for i in article.find_all(\"p\"):\n",
    "        i.append(\" \")\n",
    "    return re.sub(r\"^ +\", \"\", article.text, flags=re.MULTILINE).strip()"
   ]
  },
  {
   "cell_type": "code",
   "execution_count": 2,
   "metadata": {},
   "outputs": [],
   "source": [
    "metadata_url = \"https://docs.google.com/spreadsheets/d/e/2PACX-1vQ6zCX7UhgM9Q7O9gp8IaAFwOfotCT7_jSbJc8ab0IY-Pmnf1fNOpVwnAG-Jn_WVdP1XKRHntDxHIBU/pub?gid=101839528&single=true&output=csv\"\n",
    "df_meta = pd.read_csv(metadata_url)"
   ]
  },
  {
   "cell_type": "code",
   "execution_count": 3,
   "metadata": {},
   "outputs": [],
   "source": [
    "ieee_list = df_meta[\n",
    "    df_meta.isPaper\n",
    "    & df_meta.hasHtml\n",
    "    & (df_meta.platform == \"IEEE\")\n",
    "    & ~df_meta.needReview\n",
    "].doi.tolist()\n",
    "# ieee_list"
   ]
  },
  {
   "cell_type": "code",
   "execution_count": 5,
   "metadata": {},
   "outputs": [
    {
     "data": {
      "application/vnd.jupyter.widget-view+json": {
       "model_id": "d07a7651d55143c184ae17496dda7a42",
       "version_major": 2,
       "version_minor": 0
      },
      "text/plain": [
       "  0%|          | 0/109 [00:00<?, ?it/s]"
      ]
     },
     "metadata": {},
     "output_type": "display_data"
    },
    {
     "name": "stdout",
     "output_type": "stream",
     "text": [
      "Scraped 105 papers\n",
      "Errors: 0\n"
     ]
    }
   ],
   "source": [
    "errors = []\n",
    "processed = []\n",
    "\n",
    "for doi in tqdm(ieee_list):\n",
    "    if doi in processed:\n",
    "        continue\n",
    "\n",
    "    paper_id = doi.split(\"/\")[-1]\n",
    "    os.makedirs(f\"ieee-10.1109/{paper_id}\", exist_ok=True)\n",
    "    url = f\"https://doi-org.proxy.lib.ohio-state.edu/{doi}\"\n",
    "\n",
    "    driver.get(url)\n",
    "    try:\n",
    "        WebDriverWait(driver, timeout=10).until(\n",
    "            lambda d: \"Login Required\" in d.page_source or \"IEEE\" in d.page_source\n",
    "        )\n",
    "    except:\n",
    "        errors.append((f\"{url}: Invalid URL\", driver.get_screenshot_as_png()))\n",
    "        continue\n",
    "    if \"Login Required\" in driver.page_source:\n",
    "        print(f\"OSU proxy login required.\")\n",
    "        username_element = driver.find_element(By.ID, \"username\")\n",
    "        password_element = driver.find_element(By.ID, \"password\")\n",
    "        username_element.send_keys(osu_username)\n",
    "        password_element.send_keys(osu_passwd)\n",
    "        login_button = driver.find_element(By.ID, \"submit\")\n",
    "        login_button.click()\n",
    "        print(f\"OSU proxy login success.\")\n",
    "    try:\n",
    "        WebDriverWait(driver, timeout=10).until(\n",
    "            lambda d: d.find_element(By.ID, \"article\").is_displayed()\n",
    "        )\n",
    "    except:\n",
    "        errors.append((f\"{url}: Article not found\", driver.get_screenshot_as_png()))\n",
    "        continue\n",
    "\n",
    "    soup = BeautifulSoup(driver.page_source, \"html.parser\")\n",
    "    meta_match = re.search(r\"xplGlobal\\.document\\.metadata ?= ?({.*?});\", str(soup))\n",
    "    if meta_match:\n",
    "        meta = json.loads(meta_match.group(1))\n",
    "        with open(f\"ieee-10.1109/{paper_id}/meta.json\", \"w\") as f:\n",
    "            json.dump(meta, f, indent=4)\n",
    "        abstract = meta[\"abstract\"]\n",
    "        with open(f\"ieee-10.1109/{paper_id}/abstract.txt\", \"w\") as f:\n",
    "            f.write(abstract)\n",
    "    else:\n",
    "        errors.append((f\"{url}: No metadata found\"), driver.get_screenshot_as_png())\n",
    "        continue\n",
    "\n",
    "    article = soup.find(\"div\", {\"id\": \"article\"})\n",
    "\n",
    "    figures = article.find_all(\"div\", {\"class\": \"figure figure-full\"})\n",
    "    for fig in figures:\n",
    "        img_url = \"https://ieeexplore.ieee.org\" + fig.find(\"a\")[\"href\"]\n",
    "        img_name = img_url.split(\"/\")[-1]\n",
    "        imgb = requests.get(img_url, headers=headers).content\n",
    "        with open(f'ieee-10.1109/{paper_id}/{fig[\"id\"]}-{img_name}', \"wb\") as f:\n",
    "            f.write(imgb)\n",
    "        fig_caption = fig.find(\"div\", {\"class\": \"figcaption\"}).text\n",
    "        with open(f'ieee-10.1109/{paper_id}/{fig[\"id\"]}-caption.txt', \"w\") as f:\n",
    "            f.write(fig_caption)\n",
    "        fig.find(\"div\", {\"class\": \"img-wrap\"}).extract()\n",
    "        fig.find(\"p\", {\"class\": \"links\"}).extract()\n",
    "\n",
    "    tables = article.find_all(\"div\", {\"class\": \"figure figure-full table\"})\n",
    "    for tab in tables:\n",
    "        img_url = \"https://ieeexplore.ieee.org\" + tab.find(\"a\")[\"href\"]\n",
    "        img_name = img_url.split(\"/\")[-1]\n",
    "        imgb = requests.get(img_url, headers=headers).content\n",
    "        with open(f'ieee-10.1109/{paper_id}/{tab[\"id\"]}-{img_name}', \"wb\") as f:\n",
    "            f.write(imgb)\n",
    "        fig_caption = tab.find(\"div\", {\"class\": \"figcaption\"}).text\n",
    "        with open(f'ieee-10.1109/{paper_id}/{tab[\"id\"]}-caption.txt', \"w\") as f:\n",
    "            f.write(fig_caption)\n",
    "        tab.find(\"div\", {\"class\": \"img-wrap\"}).extract()\n",
    "\n",
    "    with open(f\"ieee-10.1109/{paper_id}/maintext.txt\", \"w\") as f:\n",
    "        f.write(maintext_formatter(article))\n",
    "\n",
    "    processed.append(doi)\n",
    "\n",
    "print(f\"Scraped {len(processed)} papers\")\n",
    "print(f\"Errors: {len(errors)}\")\n",
    "for e, s in errors:\n",
    "    print(e)\n",
    "    display(Image(s))"
   ]
  },
  {
   "cell_type": "code",
   "execution_count": 17,
   "metadata": {},
   "outputs": [
    {
     "data": {
      "text/plain": [
       "True"
      ]
     },
     "execution_count": 17,
     "metadata": {},
     "output_type": "execute_result"
    }
   ],
   "source": [
    "element = driver.find_element(By.ID, \"table1\")\n",
    "driver.execute_script(\"arguments[0].scrollIntoView(true);\", element)\n",
    "element.screenshot(\"element.png\")"
   ]
  }
 ],
 "metadata": {
  "kernelspec": {
   "display_name": "nonhumanai",
   "language": "python",
   "name": "python3"
  },
  "language_info": {
   "codemirror_mode": {
    "name": "ipython",
    "version": 3
   },
   "file_extension": ".py",
   "mimetype": "text/x-python",
   "name": "python",
   "nbconvert_exporter": "python",
   "pygments_lexer": "ipython3",
   "version": "3.11.5"
  }
 },
 "nbformat": 4,
 "nbformat_minor": 2
}
